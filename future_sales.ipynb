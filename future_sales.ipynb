{
 "cells": [
  {
   "cell_type": "code",
   "execution_count": 1,
   "id": "olive-height",
   "metadata": {},
   "outputs": [],
   "source": [
    "from pyspark.sql import SparkSession\n",
    "from pyspark import SparkContext\n",
    "from pyspark.sql.types import StructType,StructField, StringType, IntegerType, DoubleType\n",
    "from pyspark.sql.functions import col,sum,avg,max\n",
    "from pyspark.sql import Row\n",
    "from pyspark.mllib.regression import LabeledPoint\n",
    "from pyspark.mllib.regression import LinearRegressionWithSGD\n",
    "from pyspark.ml.feature import VectorAssembler\n",
    "from pyspark.ml.regression import LinearRegression\n",
    "from pyspark.ml.regression import GBTRegressor\n",
    "\n",
    "import numpy as np\n",
    "import datetime\n",
    "import os\n",
    "os.environ['PYSPARK_PYTHON'] = \"/usr/local/bin/python3\"\n",
    "os.environ['PYSPARK_DRIVER_PYTHON'] = \"/usr/local/bin/python3\"\n",
    "\n",
    "def process_record(record):\n",
    "    date_obj = datetime.datetime.strptime(record['date'], \"%d.%m.%Y\").date()\n",
    "    return Row(year=date_obj.year, month=date_obj.month, day=date_obj.day, shop_id=record['shop_id'], \\\n",
    "               date_block_num=record['date_block_num'], item_id=record['item_id'], item_price=record['item_price'], item_cnt_day=record['item_cnt_day'])"
   ]
  },
  {
   "cell_type": "code",
   "execution_count": 2,
   "id": "taken-visitor",
   "metadata": {},
   "outputs": [],
   "source": [
    "sc = SparkContext('local', 'linear')\n",
    "spark = SparkSession.builder.appName(\"Linear regression w/ Spark ML\").getOrCreate()\n"
   ]
  },
  {
   "cell_type": "code",
   "execution_count": 3,
   "id": "imported-sunday",
   "metadata": {},
   "outputs": [
    {
     "data": {
      "text/plain": [
       "DataFrame[year: bigint, month: bigint, day: bigint, shop_id: bigint, date_block_num: bigint, item_id: bigint, item_price: double, item_cnt_day: double]"
      ]
     },
     "execution_count": 3,
     "metadata": {},
     "output_type": "execute_result"
    }
   ],
   "source": [
    "structureSchema = StructType([ \\\n",
    "    StructField(\"date\",StringType(),True), \\\n",
    "    StructField(\"date_block_num\",IntegerType(),True), \\\n",
    "    StructField(\"shop_id\",IntegerType(),True), \\\n",
    "    StructField(\"item_id\", IntegerType(), True), \\\n",
    "    StructField(\"item_price\", DoubleType(), True), \\\n",
    "    StructField(\"item_cnt_day\", DoubleType(), True) \\\n",
    "  ])\n",
    "train_df = spark.read.schema(structureSchema).format('csv').options(header='true').load('./sales_train.csv')\n",
    "transformed = train_df.rdd.map(process_record)\n",
    "train_df = transformed.toDF()\n",
    "train_df = train_df.filter(train_df.item_cnt_day > 0) \n",
    "train_df"
   ]
  },
  {
   "cell_type": "code",
   "execution_count": 4,
   "id": "adjusted-vermont",
   "metadata": {},
   "outputs": [
    {
     "name": "stdout",
     "output_type": "stream",
     "text": [
      "+--------------+-------+-------+--------------+--------------+\n",
      "|date_block_num|shop_id|item_id|avg_item_price|item_cnt_month|\n",
      "+--------------+-------+-------+--------------+--------------+\n",
      "|             0|     25|   3773|         299.0|           1.0|\n",
      "|             0|     24|  17544|         999.0|           1.0|\n",
      "|             0|     24|  10836|         149.0|           2.0|\n",
      "+--------------+-------+-------+--------------+--------------+\n",
      "only showing top 3 rows\n",
      "\n"
     ]
    }
   ],
   "source": [
    "train_df = train_df.groupBy(\"date_block_num\",\"shop_id\",\"item_id\").agg(avg(\"item_price\").alias(\"avg_item_price\"), \\\n",
    "                                                     sum(\"item_cnt_day\").alias(\"item_cnt_month\"))\n",
    "train_df.show(3)"
   ]
  },
  {
   "cell_type": "code",
   "execution_count": 5,
   "id": "palestinian-seeking",
   "metadata": {},
   "outputs": [
    {
     "name": "stdout",
     "output_type": "stream",
     "text": [
      "+--------------------+--------------+\n",
      "|            features|item_cnt_month|\n",
      "+--------------------+--------------+\n",
      "|[0.0,25.0,3773.0,...|           1.0|\n",
      "|[0.0,24.0,17544.0...|           1.0|\n",
      "|[0.0,24.0,10836.0...|           2.0|\n",
      "|[0.0,25.0,14862.0...|           1.0|\n",
      "|[0.0,25.0,17489.0...|           1.0|\n",
      "|[0.0,25.0,16122.0...|           2.0|\n",
      "|[0.0,25.0,15592.0...|           1.0|\n",
      "|[0.0,25.0,8459.0,...|           1.0|\n",
      "|[0.0,25.0,9768.0,...|           3.0|\n",
      "|[0.0,19.0,21809.0...|           1.0|\n",
      "+--------------------+--------------+\n",
      "only showing top 10 rows\n",
      "\n"
     ]
    }
   ],
   "source": [
    "vectorAssembler = VectorAssembler(inputCols = ['date_block_num', 'shop_id', 'item_id', 'avg_item_price'], outputCol = 'features')\n",
    "train_examples = vectorAssembler.transform(train_df)\n",
    "train_examples = train_examples.select('features', 'item_cnt_month')\n",
    "train_examples.show(10)"
   ]
  },
  {
   "cell_type": "code",
   "execution_count": 6,
   "id": "bronze-strip",
   "metadata": {},
   "outputs": [],
   "source": [
    "splits = train_examples.randomSplit([0.7, 0.3])\n",
    "train_df = splits[0]\n",
    "test_df = splits[1]"
   ]
  },
  {
   "cell_type": "code",
   "execution_count": 8,
   "id": "golden-recovery",
   "metadata": {},
   "outputs": [
    {
     "name": "stdout",
     "output_type": "stream",
     "text": [
      "Root Mean Squared Error (RMSE) on test data = 6.6306\n"
     ]
    }
   ],
   "source": [
    "from pyspark.ml.regression import DecisionTreeRegressor\n",
    "from pyspark.ml.evaluation import RegressionEvaluator\n",
    "\n",
    "dt = DecisionTreeRegressor(featuresCol ='features', labelCol = 'item_cnt_month')\n",
    "dt_model = dt.fit(train_df)\n",
    "dt_predictions = dt_model.transform(test_df)\n",
    "dt_evaluator = RegressionEvaluator(\n",
    "    labelCol=\"item_cnt_month\", predictionCol=\"prediction\", metricName=\"rmse\")\n",
    "rmse = dt_evaluator.evaluate(dt_predictions)\n",
    "print(\"Root Mean Squared Error (RMSE) on test data = %g\" % rmse)"
   ]
  },
  {
   "cell_type": "code",
   "execution_count": null,
   "id": "vocal-robinson",
   "metadata": {},
   "outputs": [],
   "source": []
  },
  {
   "cell_type": "code",
   "execution_count": null,
   "id": "physical-footwear",
   "metadata": {},
   "outputs": [],
   "source": []
  }
 ],
 "metadata": {
  "kernelspec": {
   "display_name": "Python 3",
   "language": "python",
   "name": "python3"
  },
  "language_info": {
   "codemirror_mode": {
    "name": "ipython",
    "version": 3
   },
   "file_extension": ".py",
   "mimetype": "text/x-python",
   "name": "python",
   "nbconvert_exporter": "python",
   "pygments_lexer": "ipython3",
   "version": "3.7.7"
  }
 },
 "nbformat": 4,
 "nbformat_minor": 5
}
